{
  "nbformat": 4,
  "nbformat_minor": 0,
  "metadata": {
    "colab": {
      "provenance": [],
      "include_colab_link": true
    },
    "kernelspec": {
      "name": "python3",
      "display_name": "Python 3"
    },
    "language_info": {
      "name": "python"
    }
  },
  "cells": [
    {
      "cell_type": "markdown",
      "metadata": {
        "id": "view-in-github",
        "colab_type": "text"
      },
      "source": [
        "<a href=\"https://colab.research.google.com/github/alfa7g7/Analitica-prescriptiva/blob/main/Talleres/Taller_1_Analitica_Prescriptiva.ipynb\" target=\"_parent\"><img src=\"https://colab.research.google.com/assets/colab-badge.svg\" alt=\"Open In Colab\"/></a>"
      ]
    },
    {
      "cell_type": "markdown",
      "source": [
        "# TALLER 1 | ANALITICA PRESCRIPTIVA | EXCEL SOLVER - PYTHON PULP\n",
        "\n",
        "### INTEGRANTES:\n",
        "              Arlex Pino\n",
        "              Raul Echeverry\n",
        "              Esteban Ordoñez\n",
        "              Fabian Salazar Figueroa\n",
        "\n"
      ],
      "metadata": {
        "id": "e6uMl4pwba1p"
      }
    },
    {
      "cell_type": "code",
      "execution_count": null,
      "metadata": {
        "colab": {
          "base_uri": "https://localhost:8080/"
        },
        "id": "S4m4m3rUQMrC",
        "outputId": "5ac54cba-3b47-4748-9a19-b04115b2d266"
      },
      "outputs": [
        {
          "output_type": "stream",
          "name": "stdout",
          "text": [
            "Collecting pulp\n",
            "  Downloading PuLP-3.0.2-py3-none-any.whl.metadata (6.7 kB)\n",
            "Downloading PuLP-3.0.2-py3-none-any.whl (17.7 MB)\n",
            "\u001b[2K   \u001b[90m━━━━━━━━━━━━━━━━━━━━━━━━━━━━━━━━━━━━━━━━\u001b[0m \u001b[32m17.7/17.7 MB\u001b[0m \u001b[31m20.4 MB/s\u001b[0m eta \u001b[36m0:00:00\u001b[0m\n",
            "\u001b[?25hInstalling collected packages: pulp\n",
            "Successfully installed pulp-3.0.2\n"
          ]
        }
      ],
      "source": [
        "#librerias a usar\n",
        "!pip install pulp #para usar analitica prescriptiva 1"
      ]
    },
    {
      "cell_type": "markdown",
      "source": [
        "##**1. FACTORIES ON THE MOMISS RIVER**\n",
        "There are three factories on the Momiss River (1, 2, and 3).\n",
        "\n",
        "Each emits two types of pollutants (1 and 2) into the river. If the waste from each factory is processed, the pollution in the river can be reduced.\n",
        "  \n",
        "It costs $15 to process a ton of factory 1 waste, and each ton processed reduces the amount of pollutant 1 by 0.10 ton and the amount of pollutant 2 by 0.45 ton.\n",
        "\n",
        "It costs $10 to process a ton of factory 2 waste, and each ton processed will reduce the amount of pollutant 1 by 0.20 ton and the amount of pollutant 2 by 0.25 ton.\n",
        "\n",
        "It costs $20 to process a ton of factory 3 waste, and each ton processed will reduce the amount of pollutant 1 by 0.40 ton and the amount of pollutant 2 by 0.30 ton.\n",
        "\n",
        "The state wants to reduce the amount of pollutant 1 in the river by at least 30 tons and the amount of pollutant 2 in the river by at least 40 tons.\n",
        "\n",
        "Formulate an LP that will minimize the cost of reducing pollution by the desired amounts. Do you think that the LP assumptions (Proportionality, Additivity, Divisibility, and Certainty) are reasonable for this problem?"
      ],
      "metadata": {
        "id": "It0agVTTVJPg"
      }
    },
    {
      "cell_type": "code",
      "source": [
        "# Importamos la librería\n",
        "from pulp import *\n",
        "\n",
        "# Definición de conjuntos\n",
        "fabricas = [1, 2, 3]  # Conjunto de fábricas\n",
        "contaminantes = [1, 2]  # Tipos de contaminantes\n",
        "\n",
        "# Definición de parámetros\n",
        "costos = {1: 15, 2: 10, 3: 20}  # Costo de tratamiento por fábrica\n",
        "\n",
        "reduccion = {\n",
        "    1: {1: 0.1, 2: 0.45},  # Fábrica 1 reduce 0.1 de contaminante 1 y 0.45 de contaminante 2 por tonelada\n",
        "    2: {1: 0.2, 2: 0.25},  # Fábrica 2 reduce 0.2 de contaminante 1 y 0.25 de contaminante 2 por tonelada\n",
        "    3: {1: 0.4, 2: 0.3}    # Fábrica 3 reduce 0.4 de contaminante 1 y 0.3 de contaminante 2 por tonelada\n",
        "}\n",
        "\n",
        "min_reduccion = {1: 30, 2: 40}  # Requerimientos mínimos de reducción\n",
        "\n",
        "# Definición de instancia del problema\n",
        "prob = LpProblem(\"Minimizar_Costo_Tratamiento\", LpMinimize)\n",
        "\n",
        "# Definición de variables de decisión\n",
        "X = LpVariable.dicts(name=\"X\", indices=fabricas, lowBound=0, upBound=None, cat=LpContinuous,)  # Cantidad de toneladas tratadas en cada fábrica\n",
        "\n",
        "# Función objetivo: minimizar el costo total de tratamiento\n",
        "prob += lpSum(costos[f] * X[f] for f in fabricas), \"Costo_Total\"\n",
        "\n",
        "# Restricciones de reducción mínima de contaminantes\n",
        "for p in contaminantes:\n",
        "    prob += lpSum(reduccion[f][p] * X[f] for f in fabricas) >= min_reduccion[p], f\"Reducción_Contaminante_{p}\"\n",
        "\n",
        "# Resolver el problema\n",
        "prob.solve()\n",
        "\n",
        "# Imprimir resultados\n",
        "for f in fabricas:\n",
        "    print(f\"La fábrica {f} debe procesar una cantidad X{f} =\", X[f].varValue,\" toneladas de desecho\")\n",
        "\n",
        "print(\"Costo total mínimo =\", prob.objective.value())\n"
      ],
      "metadata": {
        "colab": {
          "base_uri": "https://localhost:8080/"
        },
        "id": "JDoqjKeuQPJw",
        "outputId": "afa80b3b-ef81-4525-fe4e-8bed986a2c9d"
      },
      "execution_count": null,
      "outputs": [
        {
          "output_type": "stream",
          "name": "stdout",
          "text": [
            "La fábrica 1 debe procesar una cantidad X1 = 7.6923077  toneladas de desecho\n",
            "La fábrica 2 debe procesar una cantidad X2 = 146.15385  toneladas de desecho\n",
            "La fábrica 3 debe procesar una cantidad X3 = 0.0  toneladas de desecho\n",
            "Costo total mínimo = 1576.9231155000002\n"
          ]
        }
      ]
    },
    {
      "cell_type": "markdown",
      "source": [
        "### **Formulación del problema y evaluación de los supuestos de Programación Lineal**  \n",
        "\n",
        "Para minimizar el costo de reducción de la contaminación hasta los niveles requeridos, se ha formulado un modelo de Programación Lineal (LP) donde la función objetivo es minimizar el costo total de procesamiento de los desechos de las fábricas, sujeto a restricciones que garantizan la reducción mínima de contaminantes.  \n",
        "\n",
        "En cuanto a los **supuestos de Programación Lineal**, evaluamos si son razonables en este problema:  \n",
        "\n",
        "1. **Proporcionalidad** ✅  \n",
        "   El modelo asume que la cantidad de contaminantes reducidos es directamente proporcional a la cantidad de desechos tratados en cada fábrica. Dado que cada tonelada procesada reduce una cantidad fija de contaminantes, este supuesto es válido.  \n",
        "\n",
        "2. **Aditividad** ✅  \n",
        "   La contribución de cada fábrica a la reducción total de contaminantes se suma linealmente. No hay interacciones complejas entre las fábricas que alteren la efectividad de la reducción, por lo que este supuesto también se cumple.  \n",
        "\n",
        "3. **Divisibilidad** ✅  \n",
        "   Se permite que la cantidad de desechos procesados en cada fábrica sea un número real (fraccionario). En la práctica, los tratamientos pueden aplicarse de manera continua y no solo en cantidades enteras, por lo que la divisibilidad es un supuesto razonable.  \n",
        "\n",
        "4. **Certeza** ⚠️  \n",
        "   Aquí el supuesto puede ser debatible. El modelo asume que los costos y las tasas de reducción de contaminación son valores fijos y conocidos con certeza. Sin embargo, en la realidad, podrían variar debido a factores externos como fluctuaciones en costos operativos, eficiencia del procesamiento o condiciones ambientales.  \n",
        "\n",
        "### **Conclusión**  \n",
        "En general, los supuestos de **Proporcionalidad, Aditividad y Divisibilidad** son razonables y apropiados para este problema. Sin embargo, el supuesto de **Certeza** podría no cumplirse del todo en un entorno real, donde los costos y la efectividad de la reducción pueden verse afectados por diversas variables. En un análisis más avanzado, se podría considerar una formulación más robusta que tenga en cuenta incertidumbre en estos parámetros."
      ],
      "metadata": {
        "id": "LcXC1dNdaydX"
      }
    },
    {
      "cell_type": "markdown",
      "source": [
        "### 📌 Solución en Excel  \n",
        "Este punto puedes verlo resuelto en Excel a través de Solver en el siguiente enlace en la hoja llamada \"Ejercicio 1\":  \n",
        "[Haz clic aquí para verlo](https://docs.google.com/spreadsheets/d/1aVTQIgdwYh91xQ1oS19cvkOjbDoZUB89/edit?usp=sharing&ouid=102065898380876538162&rtpof=true&sd=true)"
      ],
      "metadata": {
        "id": "kdSR1t7L7ETg"
      }
    },
    {
      "cell_type": "markdown",
      "source": [
        "##**2. POST OFFICE SITUATIONS**\n"
      ],
      "metadata": {
        "id": "Sup7rcM_ppIu"
      }
    },
    {
      "cell_type": "markdown",
      "source": [
        "###**A. the post office full-time employees who must be hired.**\n",
        "A post office requires different numbers of full-time employees on different days of the week.\n",
        "\n",
        "The number of full-time employees required on each day is given in Table 4.\n",
        "\n",
        "Union rules state that each full-time employee must work five consecutive days and then receive two days off.\n",
        "\n",
        "For example, an employee who works Monday to Friday must be off on Saturday and Sunday.\n",
        "\n",
        "The post office wants to meet its daily requirements using only fulltime employees.\n",
        "\n",
        "Formulate an LP that the post office can use to minimize the number of full-time employees who must be hired.\n"
      ],
      "metadata": {
        "id": "NEUsu_kB6mx7"
      }
    },
    {
      "cell_type": "code",
      "source": [
        "# Definición de conjuntos\n",
        "# Definir los días de la semana\n",
        "dias = [\"Lunes\", \"Martes\", \"Miércoles\", \"Jueves\", \"Viernes\", \"Sábado\", \"Domingo\"]\n",
        "\n",
        "# Definición de parámetros\n",
        "# Demanda diaria de empleados\n",
        "requeridos = {\"Lunes\": 17, \"Martes\": 13, \"Miércoles\": 15, \"Jueves\": 19, \"Viernes\": 14, \"Sábado\": 16, \"Domingo\": 11}\n",
        "\n",
        "# Definición de instancia del problema\n",
        "# Crear problema de minimización\n",
        "prob = LpProblem(\"Minimizar_Empleados\", LpMinimize)\n",
        "\n",
        "# Definición de variables de decisión\n",
        "# Variables de decisión: empleados que comienzan en cada día\n",
        "X = LpVariable.dicts(\"X\", dias, 0, None, LpInteger)\n",
        "\n",
        "# Función objetivo: minimizar el número total de empleados contratados\n",
        "prob += lpSum(X[d] for d in dias)\n",
        "\n",
        "# Restricciones: cubrir la demanda de cada día considerando 5 días consecutivos de trabajo\n",
        "for i, d in enumerate(dias):\n",
        "    prob += (X[dias[i % 7]] + X[dias[(i - 1) % 7]] + X[dias[(i - 2) % 7]] +\n",
        "             X[dias[(i - 3) % 7]] + X[dias[(i - 4) % 7]] >= requeridos[d])\n",
        "\n",
        "# Resolver el problema\n",
        "prob.solve()\n",
        "\n",
        "# Imprimir resultados\n",
        "for d in dias:\n",
        "    print(f\"Empleados que comienzan el {d}: {X[d].varValue}\")\n",
        "\n",
        "print(\"Número mínimo total de empleados contratados:\", value(prob.objective))\n"
      ],
      "metadata": {
        "colab": {
          "base_uri": "https://localhost:8080/"
        },
        "id": "JKqFz_kncME9",
        "outputId": "5df101e7-ac92-481d-8ba6-05376a8aa9e2"
      },
      "execution_count": null,
      "outputs": [
        {
          "output_type": "stream",
          "name": "stdout",
          "text": [
            "Empleados que comienzan el Lunes: 6.0\n",
            "Empleados que comienzan el Martes: 3.0\n",
            "Empleados que comienzan el Miércoles: 2.0\n",
            "Empleados que comienzan el Jueves: 8.0\n",
            "Empleados que comienzan el Viernes: 0.0\n",
            "Empleados que comienzan el Sábado: 3.0\n",
            "Empleados que comienzan el Domingo: 1.0\n",
            "Número mínimo total de empleados contratados: 23.0\n"
          ]
        }
      ]
    },
    {
      "cell_type": "markdown",
      "source": [
        "#### **Conclusión y Recomendaciones para la Asignación de Empleados (Punto A)**  \n",
        "\n",
        "El modelo de optimización ha determinado la **cantidad mínima de empleados** necesarios para cubrir la demanda laboral de la semana, asignándolos estratégicamente a lo largo de los días.  \n",
        "\n",
        "\n",
        "\n",
        "#### **Distribución Óptima de Contrataciones**  \n",
        "\n",
        "| Día de Inicio | Número de Empleados Contratados |\n",
        "|--------------|--------------------------------|\n",
        "| **Lunes**    | 6  |\n",
        "| **Martes**   | 3  |\n",
        "| **Miércoles** | 2  |\n",
        "| **Jueves**   | 8  |\n",
        "| **Viernes**   | 0  |\n",
        "| **Sábado**   | 3  |\n",
        "| **Domingo**  | 1  |\n",
        "\n",
        "✅ **Número total mínimo de empleados contratados:** **23**  \n",
        "\n",
        "\n",
        "\n",
        "#### **Puntos Clave y Recomendaciones**  \n",
        "\n",
        "1. **Distribución eficiente del personal**  \n",
        "   - El modelo encontró que **23 empleados son suficientes** para cubrir la demanda laboral, minimizando costos.  \n",
        "   - La mayoría de los empleados comienzan su trabajo los jueves (8 personas), lo que sugiere que hacia el final de la semana hay mayor necesidad de mano de obra.  \n",
        "\n",
        "2. **No se requiere contratación los viernes**  \n",
        "   - El modelo indica que no es necesario contratar empleados nuevos los viernes, lo que puede deberse a que la carga laboral es menor en ese punto de la semana.  \n",
        "\n",
        "3. **El jueves es el día con más contrataciones**  \n",
        "   - Con **8 empleados iniciando el jueves**, se evidencia que es un día de alta necesidad de personal.  \n",
        "   - Se podría analizar si es posible redistribuir parte de esta carga laboral para equilibrar mejor la semana.  \n",
        "\n",
        "4. **Optimización en la asignación del personal**  \n",
        "   - Se redujo al **mínimo posible** la cantidad de empleados sin afectar la operación.  \n",
        "   - Esto implica una **buena planificación de horarios y turnos** para maximizar la productividad con menos contrataciones.  \n",
        "\n",
        "\n",
        "#### **Recomendación Final**  \n",
        "La **Post Office** debería seguir este plan de contratación para operar con el **mínimo número de empleados posible (23),** asegurando que los días clave con mayor demanda (especialmente jueves y lunes) estén cubiertos de manera óptima.  \n",
        "\n",
        "También sería útil revisar la carga de trabajo para evaluar si **redistribuir empleados** entre los días puede mejorar la eficiencia aún más.  \n",
        "\n",
        "**Conclusión:** Se logró minimizar la contratación de empleados sin afectar la operación, garantizando **eficiencia y rentabilidad** en la asignación de personal."
      ],
      "metadata": {
        "id": "kkfZB3056R-G"
      }
    },
    {
      "cell_type": "markdown",
      "source": [
        "### 📌 Solución en Excel  \n",
        "Este punto puedes verlo resuelto en Excel a través de Solver en el siguiente enlace en la hoja llamada \"Ejercicio 2 A.\":  \n",
        "[Haz clic aquí para verlo](https://docs.google.com/spreadsheets/d/1aVTQIgdwYh91xQ1oS19cvkOjbDoZUB89/edit?usp=sharing&ouid=102065898380876538162&rtpof=true&sd=true)"
      ],
      "metadata": {
        "id": "1KKHmEcM8b2j"
      }
    },
    {
      "cell_type": "markdown",
      "source": [
        "###**B. The post office’s weekly labor costs**\n",
        "In the post office example, suppose that each full-time employee works 8 hours per day.\n",
        "\n",
        "Thus, Monday’s requirement of 17 workers may be viewed as a requirement of 8(17) 136 hours.\n",
        "\n",
        "The post office may meet its daily labor requirements by using both full-time and part-time employees.\n",
        "\n",
        "During each week, a full-time employee works 8 hours a day for five consecutive days, and a part-time employee works 4 hours a day for five consecutive days.\n",
        "\n",
        "A full-time employee costs the post office 15 USD per hour, where as a part-time employee (with reduced fringe benefits) costs the post office only 10 USD per hour.\n",
        "\n",
        "Union requirements limit part-time labor to 25% of weekly labor requirements.\n",
        "\n",
        "Formulate an LP to minimize the post office’s weekly labor costs.\n"
      ],
      "metadata": {
        "id": "I2LrtBjZyEfW"
      }
    },
    {
      "cell_type": "code",
      "source": [
        "# Forma A\n",
        "# Definir los días de la semana\n",
        "days = [\"Lunes\", \"Martes\", \"Miercoles\", \"Jueves\", \"Viernes\", \"Sábado\", \"Domingo\"]\n",
        "\n",
        "# Demanda de empleados por día (en horas)\n",
        "demand = {\"Lunes\": 136, \"Martes\": 104, \"Miercoles\": 120, \"Jueves\": 152, \"Viernes\": 112, \"Sábado\": 128, \"Domingo\": 88}\n",
        "\n",
        "# Definir variables de decisión\n",
        "X_FT = LpVariable.dicts(\"FT\", days, 0, None, cat=\"Integer\") # Empleados full-time\n",
        "X_PT = LpVariable.dicts(\"PT\", days, 0, None, cat=\"Integer\") # Empleados part-time\n",
        "\n",
        "# Definir el problema de optimización\n",
        "prob = LpProblem(\"Minimizar_Costo_Empleados\", LpMinimize)\n",
        "\n",
        "# Función objetivo corregida: Minimizar costos semanales reales\n",
        "prob += lpSum([15 * 8 * 5 * X_FT[d] + 10 * 4 * 5 * X_PT[d] for d in days])\n",
        "\n",
        "# Restricciones de horas requeridas por día\n",
        "for i, d in enumerate(days):\n",
        "    prob += (lpSum(8 * X_FT[days[j % 7]] + 4 * X_PT[days[j % 7]] for j in range(i, i + 5)) >= demand[d])\n",
        "\n",
        "# Restricción del 25% de empleados medio tiempo (en términos de horas semanales)\n",
        "total_hours_week = sum(demand.values())\n",
        "prob += lpSum(4 * 5 * X_PT[d] for d in days) <= 0.25 * total_hours_week\n",
        "\n",
        "# Resolver el problema\n",
        "prob.solve()\n",
        "\n",
        "# Imprimir resultados\n",
        "for d in days:\n",
        "    print(f\"Día {d}: FT = {X_FT[d].varValue}, PT = {X_PT[d].varValue}\")\n",
        "print(\"Costo total mínimo =\", prob.objective.value())\n"
      ],
      "metadata": {
        "colab": {
          "base_uri": "https://localhost:8080/"
        },
        "id": "qJdTMiMq4iF3",
        "outputId": "2477f1c1-5b58-4db1-b637-f0520fddc812"
      },
      "execution_count": null,
      "outputs": [
        {
          "output_type": "stream",
          "name": "stdout",
          "text": [
            "Día Lunes: FT = 7.0, PT = 1.0\n",
            "Día Martes: FT = 0.0, PT = 0.0\n",
            "Día Miercoles: FT = 3.0, PT = 0.0\n",
            "Día Jueves: FT = 0.0, PT = 0.0\n",
            "Día Viernes: FT = 3.0, PT = 7.0\n",
            "Día Sábado: FT = 4.0, PT = 1.0\n",
            "Día Domingo: FT = 1.0, PT = 0.0\n",
            "Costo total mínimo = 12600.0\n"
          ]
        }
      ]
    },
    {
      "cell_type": "code",
      "source": [
        "#Forma B\n",
        "# Definir los días de la semana\n",
        "days = [\"Lunes\", \"Martes\", \"Miércoles\", \"Jueves\", \"Viernes\", \"Sábado\", \"Domingo\"]\n",
        "num_days = len(days)\n",
        "\n",
        "# Demanda de empleados por día (en horas)\n",
        "demand = {\"Lunes\": 136, \"Martes\": 104, \"Miércoles\": 120, \"Jueves\": 152, \"Viernes\": 112, \"Sábado\": 128, \"Domingo\": 88}\n",
        "\n",
        "# Definir variables de decisión\n",
        "X_FT = {d: LpVariable(f\"FT_{d}\", 0, None, cat=\"Integer\") for d in days}  # Full-time employees\n",
        "X_PT = {d: LpVariable(f\"PT_{d}\", 0, None, cat=\"Integer\") for d in days}  # Part-time employees\n",
        "\n",
        "# Costos por hora y horas por semana\n",
        "cost_FT = 15  # USD por hora\n",
        "cost_PT = 10  # USD por hora\n",
        "hours_FT = 8 * 5  # 40 horas a la semana por empleado FT\n",
        "hours_PT = 4 * 5  # 20 horas a la semana por empleado PT\n",
        "\n",
        "# Definir el problema de optimización\n",
        "prob = LpProblem(\"Minimizar_Costo_Empleados\", LpMinimize)\n",
        "\n",
        "# Función objetivo: Minimizar costos semanales reales\n",
        "prob += lpSum([cost_FT * hours_FT * X_FT[d] + cost_PT * hours_PT * X_PT[d] for d in days])\n",
        "\n",
        "# Restricciones de demanda diaria: Asegurar que se cubran las horas necesarias cada día\n",
        "for i, d in enumerate(days):\n",
        "    prob += (lpSum(8 * X_FT[days[j % num_days]] + 4 * X_PT[days[j % num_days]] for j in range(i, i + 5)) >= demand[d])\n",
        "\n",
        "# Restricción del 25% de empleados medio tiempo (en términos de horas semanales)\n",
        "total_hours_week = sum(demand.values())\n",
        "prob += lpSum(hours_PT * X_PT[d] for d in days) <= 0.25 * total_hours_week\n",
        "\n",
        "# Resolver el problema\n",
        "prob.solve()\n",
        "\n",
        "# Imprimir resultados\n",
        "for d in days:\n",
        "    print(f\"Día {d}: FT = {X_FT[d].varValue}, PT = {X_PT[d].varValue}\")\n",
        "print(\"Costo total mínimo =\", prob.objective.value())\n"
      ],
      "metadata": {
        "id": "UPf11hYD79RZ",
        "outputId": "0bcaefce-c8fd-47ba-df5a-00dd17318e66",
        "colab": {
          "base_uri": "https://localhost:8080/"
        }
      },
      "execution_count": null,
      "outputs": [
        {
          "output_type": "stream",
          "name": "stdout",
          "text": [
            "Día Lunes: FT = 7.0, PT = 1.0\n",
            "Día Martes: FT = 0.0, PT = 0.0\n",
            "Día Miércoles: FT = 3.0, PT = 0.0\n",
            "Día Jueves: FT = 0.0, PT = 0.0\n",
            "Día Viernes: FT = 3.0, PT = 7.0\n",
            "Día Sábado: FT = 4.0, PT = 1.0\n",
            "Día Domingo: FT = 1.0, PT = 0.0\n",
            "Costo total mínimo = 12600.0\n"
          ]
        }
      ]
    },
    {
      "cell_type": "markdown",
      "source": [
        "#### **Conclusión y Recomendaciones para la Post Office**  \n",
        "\n",
        "El modelo de optimización ha determinado la **asignación óptima de trabajadores** a lo largo de la semana para minimizar los costos operativos mientras se cumplen los requisitos de demanda laboral.  \n",
        "\n",
        "---\n",
        "\n",
        "#### **Distribución Óptima del Personal**  \n",
        "\n",
        "| Día       | Empleados de Tiempo Completo (FT) | Empleados de Medio Tiempo (PT) |\n",
        "|-----------|---------------------------------|-----------------------------|\n",
        "| **Lunes**  | 7   | 1  |\n",
        "| **Martes**  | 0   | 0  |\n",
        "| **Miércoles**  | 3   | 0  |\n",
        "| **Jueves**  | 0   | 0  |\n",
        "| **Viernes**  | 3   | 7  |\n",
        "| **Sábado**  | 4   | 1  |\n",
        "| **Domingo**  | 1   | 0  |\n",
        "\n",
        "✅ **Costo total mínimo alcanzado:** **$12,600**  \n",
        "✅ **Se minimizó la cantidad de empleados sin afectar la operación**  \n",
        "\n",
        "---\n",
        "\n",
        "#### **Puntos Clave y Recomendaciones**  \n",
        "\n",
        "1. **No se requiere personal los martes ni los jueves**  \n",
        "   - El modelo confirma que en estos días **no se necesita personal** para cumplir con la carga laboral mínima.  \n",
        "   - Esto sugiere que en estos días la demanda de trabajo es baja o inexistente.  \n",
        "\n",
        "2. **La mayor cantidad de empleados es requerida los viernes**  \n",
        "   - **10 trabajadores en total (3 FT y 7 PT)** son necesarios para cubrir las necesidades del día.  \n",
        "   - Esto sugiere que el viernes es un día de alta demanda en la oficina postal.  \n",
        "\n",
        "3. **Uso eficiente de empleados de tiempo parcial (PT)**  \n",
        "   - Se asignan solo en los días **viernes (7 PT), lunes (1 PT) y sábado (1 PT)**.  \n",
        "   - Esto permite reducir costos al no contratar más empleados de los necesarios.  \n",
        "\n",
        "4. **El modelo encontró la combinación más barata de personal bajo las restricciones**  \n",
        "   - Se optimizó el número de empleados para cumplir con la carga laboral **al menor costo posible ($12,600)**.  \n",
        "   - Se evitaron contrataciones innecesarias, maximizando la eficiencia del presupuesto.  \n",
        "\n",
        "---\n",
        "\n",
        "#### **Recomendación Final**  \n",
        "La **Post Office** debería seguir esta asignación de empleados para operar con el **mínimo costo posible**, asegurando que los días clave con mayor demanda (lunes, miércoles, viernes y sábado) estén cubiertos de manera óptima.  \n",
        "\n",
        "Además, puede analizar **por qué los martes y jueves no se requieren empleados** y, si es viable, reorganizar algunas tareas para balancear mejor la carga de trabajo.  \n",
        "\n",
        "**Conclusión:** Se logró minimizar costos sin afectar el servicio, asegurando una operación eficiente y rentable.\n",
        "\n"
      ],
      "metadata": {
        "id": "muMFbZ3WiAPS"
      }
    },
    {
      "cell_type": "markdown",
      "source": [
        "### 📌 Solución en Excel  \n",
        "Este punto puedes verlo resuelto en Excel a través de Solver en el siguiente enlace en la hoja llamada \"Ejercicio 2 B.\":  \n",
        "[Haz clic aquí para verlo](https://docs.google.com/spreadsheets/d/1aVTQIgdwYh91xQ1oS19cvkOjbDoZUB89/edit?usp=sharing&ouid=102065898380876538162&rtpof=true&sd=true)"
      ],
      "metadata": {
        "id": "zfwdg6sb8oJm"
      }
    },
    {
      "cell_type": "markdown",
      "source": [
        "##**3. CIUDAD ERSTVILLE Y SUS IMPUESTOS**\n",
        "La ciudad de Erstville enfrenta un grave recorte de presupuesto.\n",
        "\n",
        "Buscando una solución a largo plazo para mejorar la base tributaria, el consejo de la ciudad propone la demolición de un área de viviendas dentro de la ciudad, y su reemplazo con un moderno desarrollo.\n",
        "\n",
        "El proyecto implica dos fases: (1) demolición de casas populares para obtener el terreno para el nuevo desarrollo, y (2) construcción del nuevo desarrollo.\n",
        "A continuación, un resumen de la situación:\n",
        "\n",
        "Se pueden demoler 300 casas populares. Cada casa ocupa un lote de .25 acres. El costo de demoler una casa es de $2000.\n",
        "\n",
        "Los tamaños de los lotes para construir casas unifamiliares, dobles, triples y cuádruples, son de .18, .28, .4 y .5 acres, respectivamente.\n",
        "Las calles, los espacios abiertos y el área para la instalación de servicios, ocupan 15% del área disponible.\n",
        "\n",
        "En el nuevo desarrollo, las unidades triples y cuádruples ocupan por lo menos 25% del total del espacio construido. El número de unidades sencillas deben ser al menos 20% de todas las unidades, y las unidades dobles deben ocupar un mínimo de 10% del total del espacio construido.\n",
        "\n",
        "El impuesto por unidad aplicado a las unidades sencillas, dobles, triples y cuádruples es de 1000, 1900, 2700 y 3400 USD respectivamente.\n",
        "\n",
        "El costo de construcción por unidad de las casas sencillas, dobles, triples y cuádruples es de 50,000, 70,000, 130,000 y 160,000 USD respectivamente.\n",
        "\n",
        "El financiamiento a través de un banco local está limitado a 15 millones de USD.\n",
        "\n",
        "¿Cuántas unidades de cada tipo se deben construir para maximizar la recaudación de impuestos?"
      ],
      "metadata": {
        "id": "EMOW8OREhyZY"
      }
    },
    {
      "cell_type": "code",
      "source": [
        "# Definir el problema de optimización\n",
        "problem = LpProblem(\"Maximizar_Impuestos\", LpMaximize)\n",
        "\n",
        "# Variables de decisión\n",
        "x1 = LpVariable(\"Unidades_Sencillas\", 0, None, cat=\"Integer\")\n",
        "x2 = LpVariable(\"Unidades_Dobles\", 0, None, cat=\"Integer\")\n",
        "x3 = LpVariable(\"Unidades_Triples\", 0, None, cat=\"Integer\")\n",
        "x4 = LpVariable(\"Unidades_Cuadruples\", 0, None, cat=\"Integer\")\n",
        "D = LpVariable(\"Casas_Demolidas\", 0, 300, cat=\"Integer\")\n",
        "\n",
        "\n",
        "# Función objetivo: Maximizar los impuestos recaudados\n",
        "problem += 1000*x1 + 1900*x2 + 2700*x3 + 3400*x4\n",
        "\n",
        "# Restricción de área disponible (85% del terreno liberado por la demolición)\n",
        "problem += (0.18*x1 + 0.28*x2 + 0.40*x3 + 0.50*x4) <= (0.85 * (D * 0.25))\n",
        "\n",
        "# Restricción de presupuesto total (incluyendo demolición)\n",
        "problem += (50000*x1 + 70000*x2 + 130000*x3 + 160000*x4 + 2000*D) <= 15000000\n",
        "\n",
        "# Restricción basada en área: Triples y cuádruples ≥ 25% del espacio total\n",
        "problem += (0.40*x3 + 0.50*x4) >= 0.25 * (0.18*x1 + 0.28*x2 + 0.40*x3 + 0.50*x4)\n",
        "\n",
        "# Restricción basada en área: Dobles ≥ 10% del espacio total\n",
        "problem += (0.28*x2) >= 0.10 * (0.18*x1 + 0.28*x2 + 0.40*x3 + 0.50*x4)\n",
        "\n",
        "# Restricción basada en área: Sencillas ≥ 20% del total de casas construidas\n",
        "problem += (x1) >= 0.20 * (x1 + x2 + x3 + x4)\n",
        "\n",
        "# Resolver el problema\n",
        "problem.solve()\n",
        "\n",
        "# Mostrar resultados\n",
        "print(\"Solución óptima:\")\n",
        "print(f\"Casas a demoler: {D.varValue}\")\n",
        "print(f\"Unidades sencillas: {x1.varValue}\")\n",
        "print(f\"Unidades dobles: {x2.varValue}\")\n",
        "print(f\"Unidades triples: {x3.varValue}\")\n",
        "print(f\"Unidades cuádruples: {x4.varValue}\")\n",
        "print(f\"Recaudación máxima de impuestos: $ {problem.objective.value()}\")\n"
      ],
      "metadata": {
        "colab": {
          "base_uri": "https://localhost:8080/"
        },
        "id": "KNm_rnqisx-y",
        "outputId": "9cc16a2d-d297-4a7b-fa1f-96c03c14a54f"
      },
      "execution_count": null,
      "outputs": [
        {
          "output_type": "stream",
          "name": "stdout",
          "text": [
            "Solución óptima:\n",
            "Casas a demoler: 252.0\n",
            "Unidades sencillas: 37.0\n",
            "Unidades dobles: 119.0\n",
            "Unidades triples: 1.0\n",
            "Unidades cuádruples: 26.0\n",
            "Recaudación máxima de impuestos: $ 354200.0\n"
          ]
        }
      ]
    },
    {
      "cell_type": "code",
      "source": [
        "print(\"\\nResumen del uso del área construida:\")\n",
        "print(f\"Área total construida: {0.18*x1.varValue + 0.28*x2.varValue + 0.40*x3.varValue + 0.50*x4.varValue:.2f} acres\")\n",
        "print(f\"Área de unidades sencillas: {0.18*x1.varValue:.2f} acres\")\n",
        "print(f\"Área de unidades dobles: {0.28*x2.varValue:.2f} acres\")\n",
        "print(f\"Área de unidades triples: {0.40*x3.varValue:.2f} acres\")\n",
        "print(f\"Área de unidades cuádruples: {0.50*x4.varValue:.2f} acres\")"
      ],
      "metadata": {
        "colab": {
          "base_uri": "https://localhost:8080/"
        },
        "id": "6nphkpiEwGTi",
        "outputId": "8e35f7a3-6552-48fe-fb96-baecf0beadc5"
      },
      "execution_count": null,
      "outputs": [
        {
          "output_type": "stream",
          "name": "stdout",
          "text": [
            "\n",
            "Resumen del uso del área construida:\n",
            "Área total construida: 53.38 acres\n",
            "Área de unidades sencillas: 6.66 acres\n",
            "Área de unidades dobles: 33.32 acres\n",
            "Área de unidades triples: 0.40 acres\n",
            "Área de unidades cuádruples: 13.00 acres\n"
          ]
        }
      ]
    },
    {
      "cell_type": "markdown",
      "source": [
        "### **Conclusión del modelo de optimización para la ciudad de Erstville**  \n",
        "\n",
        "Con base en los resultados obtenidos, la estrategia óptima para **maximizar la recaudación de impuestos** en Erstville implica:  \n",
        "\n",
        "- **Demoler 252 casas populares**  \n",
        "- Construir **37** casas **unifamiliares**  \n",
        "- Construir **119** casas **dobles**  \n",
        "- Construir **1** casa **triple**  \n",
        "- Construir **26** casas **cuádruples**  \n",
        "\n",
        "Esta planificación permite alcanzar una **recaudación máxima de impuestos de $354,200**, cumpliendo con todas las restricciones del problema, incluyendo:  \n",
        "✅ **Disponibilidad de área para construcción**  \n",
        "✅ **Proporción mínima de unidades sencillas, dobles, triples y cuádruples**  \n",
        "✅ **Límite de financiamiento disponible**  \n",
        "\n",
        "### **Conclusiones clave para la planeación del desarrollo**  \n",
        "\n",
        "1. **Se requiere la demolición de 252 casas populares**  \n",
        "   - No es necesario demoler todas las 300 casas disponibles.  \n",
        "   - La optimización sugiere que con 252 casas demolidas se logra la mejor distribución de espacio para maximizar la recaudación.  \n",
        "\n",
        "2. **Enfoque en casas dobles**  \n",
        "   - Se construyen **119 casas dobles**, representando la mayor cantidad de unidades en el desarrollo.  \n",
        "   - Esto indica que este tipo de vivienda es la más eficiente en términos de recaudación y uso del espacio.  \n",
        "\n",
        "3. **Mínima construcción de casas triples**  \n",
        "   - Solo **1 unidad triple** es necesaria para cumplir con las restricciones y maximizar la recaudación.  \n",
        "   - Esto sugiere que su aporte a la recaudación es bajo en comparación con otros tipos de unidades.  \n",
        "\n",
        "4. **Uso eficiente del financiamiento**  \n",
        "   - El presupuesto máximo disponible de **$15 millones** se utiliza estratégicamente dentro del límite permitido.  \n",
        "   - La solución no requiere financiamiento adicional para lograr la mayor recaudación posible.  \n",
        "\n",
        "5. **Cumplimiento de restricciones de zonificación y espacio**  \n",
        "   - Se respeta la condición de que las **unidades triples y cuádruples ocupen al menos el 25% del espacio total**.  \n",
        "   - Se cumple con la restricción de que **las unidades sencillas sean al menos el 20% del total**.  \n",
        "   - También se respeta la regla de que **las unidades dobles ocupen al menos el 10% del área construida**.  \n",
        "\n",
        "### **Recomendación para la ciudad de Erstville**  \n",
        "Para obtener la **máxima recaudación de impuestos** dentro de las restricciones de financiamiento y espacio, la ciudad debe priorizar la construcción de **casas dobles**, seguidas de **casas sencillas y cuádruples**, manteniendo solo una mínima cantidad de unidades triples.  \n",
        "\n",
        "Esta estrategia permitirá **optimizar la base tributaria de la ciudad**, asegurando un desarrollo sostenible y eficiente en términos de espacio y presupuesto.  \n"
      ],
      "metadata": {
        "id": "jz520GLZwnhi"
      }
    },
    {
      "cell_type": "markdown",
      "source": [
        "### 📌 Solución en Excel  \n",
        "Este punto puedes verlo resuelto en Excel a través de Solver en el siguiente enlace en la hoja llamada \"Ejercicio 3\":  \n",
        "[Haz clic aquí para verlo](https://docs.google.com/spreadsheets/d/1aVTQIgdwYh91xQ1oS19cvkOjbDoZUB89/edit?usp=sharing&ouid=102065898380876538162&rtpof=true&sd=true)"
      ],
      "metadata": {
        "id": "o31lUpKW8uST"
      }
    },
    {
      "cell_type": "markdown",
      "source": [
        "##**4. PLANEACION JUGUITOS SABROSOS**\n",
        "\n",
        "Juguitos sabrosos elabora dos tipos de jugo de naranja Premium y regular.\n",
        "Para elaborar estos productos utiliza 2 tipos de naranjas oromiel y normales.\n",
        "\n",
        "Las naranjas oromiel tienen un grado de azúcar de 6 y las normales de 3.\n",
        "\n",
        "El juego de naranja Premium debe contener en promedio 5 grados de azúcar mientras que el jugo regular debe tener 4.\n",
        "\n",
        "Cada litro de jugo de naranja Premium se vende a 4000 mientras que el regular se vende a 2000.\n",
        "\n",
        "Por otra parte, un kilo de naranjas de tipo oromiel se consigue a 1500 por kilo mientras que las normales cuestan 1000 por kg. (Asuma que cada kilo de naranjas produce un litro de jugo independientemente del tipo).\n",
        "\n",
        "La demanda de jugos es de 30 litros de premium y 20 litros de regular\n"
      ],
      "metadata": {
        "id": "BofPM5LL33XS"
      }
    },
    {
      "cell_type": "code",
      "source": [
        "# Definir el problema\n",
        "model = LpProblem(\"Maximizar_Ganancia\", LpMaximize)\n",
        "\n",
        "# Definir variables de decisión (Kg de cada tipo de naranja)\n",
        "X_op = LpVariable(\"X_op\", lowBound=0)  # Oromiel para Premium\n",
        "X_np = LpVariable(\"X_np\", lowBound=0)  # Normal para Premium\n",
        "X_or = LpVariable(\"X_or\", lowBound=0)  # Oromiel para Regular\n",
        "X_nr = LpVariable(\"X_nr\", lowBound=0)  # Normal para Regular\n",
        "\n",
        "# Función objetivo (Maximizar ganancia)\n",
        "model += (4000 * 30 + 2000 * 20) - (1500 * X_op + 1000 * X_np + 1500 * X_or + 1000 * X_nr)\n",
        "\n",
        "# Restricciones de producción (demanda)\n",
        "model += X_op + X_np == 30  # Total Premium\n",
        "model += X_or + X_nr == 20  # Total Regular\n",
        "\n",
        "# Restricciones de azúcar promedio\n",
        "model += (6 * X_op + 3 * X_np) / 30 == 5  # Azúcar Premium\n",
        "model += (6 * X_or + 3 * X_nr) / 20 == 4  # Azúcar Regular\n",
        "\n",
        "# Resolver el problema\n",
        "model.solve()\n",
        "\n",
        "# Imprimir resultados\n",
        "print(\"Resultados:\")\n",
        "print(f\"Kg de naranjas Oromiel para Premium: {X_op.varValue}\")\n",
        "print(f\"Kg de naranjas Normales para Premium: {X_np.varValue}\")\n",
        "print(f\"Kg de naranjas Oromiel para Regular: {X_or.varValue}\")\n",
        "print(f\"Kg de naranjas Normales para Regular: {X_nr.varValue}\")\n",
        "print(f\"Ganancia máxima: $ {model.objective.value()}\")\n"
      ],
      "metadata": {
        "colab": {
          "base_uri": "https://localhost:8080/"
        },
        "id": "IME86Sn12sBU",
        "outputId": "67e0706f-5412-4e12-921c-a8c8ea8f3d06"
      },
      "execution_count": null,
      "outputs": [
        {
          "output_type": "stream",
          "name": "stdout",
          "text": [
            "Resultados:\n",
            "Kg de naranjas Oromiel para Premium: 20.0\n",
            "Kg de naranjas Normales para Premium: 10.0\n",
            "Kg de naranjas Oromiel para Regular: 6.6666667\n",
            "Kg de naranjas Normales para Regular: 13.333333\n",
            "Ganancia máxima: $ 96666.66695\n"
          ]
        }
      ]
    },
    {
      "cell_type": "markdown",
      "source": [
        "Podríamos darle al dueño de **Juguitos Sabrosos** las siguientes recomendaciones basadas en los resultados del modelo de optimización:  \n",
        "\n",
        "### **Recomendaciones para la planeación de producción**  \n",
        "\n",
        "1. **Distribución de insumos óptima:**  \n",
        "   - Para producir los **30 litros de jugo Premium**, debe usar:  \n",
        "     - **20 kg de naranjas Oromiel**  \n",
        "     - **10 kg de naranjas Normales**  \n",
        "   - Para producir los **20 litros de jugo Regular**, debe usar:  \n",
        "     - **6.67 kg de naranjas Oromiel**  \n",
        "     - **13.33 kg de naranjas Normales**  \n",
        "\n",
        "2. **Cumplimiento de calidad:**  \n",
        "   - Esta combinación de insumos garantiza que el jugo Premium tenga un **promedio de 5 grados de azúcar** y el Regular **4 grados**, cumpliendo con los estándares de calidad.  \n",
        "\n",
        "3. **Ganancia máxima esperada:**  \n",
        "   - Con esta estrategia, la empresa puede lograr una **ganancia máxima de $96,666.67**, considerando costos de materia prima y precio de venta.  \n",
        "\n",
        "4. **Consideraciones adicionales:**  \n",
        "   - Si el precio de las naranjas cambia o hay variaciones en la demanda, podría ser necesario **recalcular la estrategia** para maximizar la ganancia.  \n",
        "   - Si la empresa desea aumentar la producción o explorar nuevas combinaciones de insumos, se pueden realizar más análisis de optimización.  \n",
        "\n",
        "### **Conclusión**  \n",
        "La empresa puede seguir este plan de producción para maximizar sus ganancias mientras cumple con los requerimientos de calidad de sus productos."
      ],
      "metadata": {
        "id": "c4A65Xs_3gT3"
      }
    },
    {
      "cell_type": "markdown",
      "source": [
        "### 📌 Solución en Excel  \n",
        "Este punto puedes verlo resuelto en Excel a través de Solver en el siguiente enlace en la hoja llamada \"Ejercicio 4\":  \n",
        "[Haz clic aquí para verlo](https://docs.google.com/spreadsheets/d/1aVTQIgdwYh91xQ1oS19cvkOjbDoZUB89/edit?usp=sharing&ouid=102065898380876538162&rtpof=true&sd=true)"
      ],
      "metadata": {
        "id": "wEn4DTYz8xLP"
      }
    }
  ]
}