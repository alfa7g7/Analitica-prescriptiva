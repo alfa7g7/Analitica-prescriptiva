{
  "nbformat": 4,
  "nbformat_minor": 0,
  "metadata": {
    "colab": {
      "provenance": [],
      "include_colab_link": true
    },
    "kernelspec": {
      "name": "python3",
      "display_name": "Python 3"
    },
    "language_info": {
      "name": "python"
    }
  },
  "cells": [
    {
      "cell_type": "markdown",
      "metadata": {
        "id": "view-in-github",
        "colab_type": "text"
      },
      "source": [
        "<a href=\"https://colab.research.google.com/github/alfa7g7/Analitica-prescriptiva/blob/main/Talleres/Taller_2_Analitica_Prescriptiva_Prog_ent_mixta.ipynb\" target=\"_parent\"><img src=\"https://colab.research.google.com/assets/colab-badge.svg\" alt=\"Open In Colab\"/></a>"
      ]
    },
    {
      "cell_type": "markdown",
      "source": [
        "# TALLER 2 | ANALITICA PRESCRIPTIVA | PULP | PROGRAMACION ENTERA MIXTA\n",
        "\n",
        "### INTEGRANTES:\n",
        "              Arlex Pino\n",
        "              Raul Echeverry\n",
        "              Esteban Ordoñez\n",
        "              Fabian Salazar Figueroa"
      ],
      "metadata": {
        "id": "E4sxymmmkVa5"
      }
    },
    {
      "cell_type": "code",
      "source": [
        "# Instalando libreria para poder modelar\n",
        "!pip install pulp"
      ],
      "metadata": {
        "colab": {
          "base_uri": "https://localhost:8080/"
        },
        "collapsed": true,
        "id": "X79EfkmALXTi",
        "outputId": "f7d5f7e6-18fb-4ba3-9fa9-d47f18439cfa"
      },
      "execution_count": null,
      "outputs": [
        {
          "output_type": "stream",
          "name": "stdout",
          "text": [
            "Collecting pulp\n",
            "  Downloading PuLP-3.0.2-py3-none-any.whl.metadata (6.7 kB)\n",
            "Downloading PuLP-3.0.2-py3-none-any.whl (17.7 MB)\n",
            "\u001b[2K   \u001b[90m━━━━━━━━━━━━━━━━━━━━━━━━━━━━━━━━━━━━━━━━\u001b[0m \u001b[32m17.7/17.7 MB\u001b[0m \u001b[31m33.9 MB/s\u001b[0m eta \u001b[36m0:00:00\u001b[0m\n",
            "\u001b[?25hInstalling collected packages: pulp\n",
            "Successfully installed pulp-3.0.2\n"
          ]
        }
      ]
    },
    {
      "cell_type": "markdown",
      "source": [
        "### **1.\tGeneral Wheels Co.**\n",
        "\n",
        "El consejo directivo de la General Wheels Co. Está considerando siete grandes inversiones de capital. Estas inversiones difieren en la utilidad estimada a largo plazo (valor presente neto) que van a generar, así como en la cantidad de capital requerido, como se muestra en la siguiente tabla (en millones de dólares):\n",
        "\n",
        "|Oportunidad de inversion|Utilidad estimada|Capital requerido|\n",
        "|:-:|:-:|:-:|\n",
        "|1|9|25|\n",
        "|2|16|40|\n",
        "|3|18|45|\n",
        "|4|15|35|\n",
        "|5|6|15|\n",
        "|6|12|30|\n",
        "|7|11|25|\n",
        "\n",
        "\n",
        "\n",
        "La cantidad total de capital disponible para estas inversiones es de US$100.000.000. Las oportunidades de inversión 1 y 2 son mutuamente excluyentes y también lo son la 3 y 4. Además, no pueden intentarse 3 ni 4 a menos que se decida invertir en 1 o en 2. No existen restricciones sobre las oportunidades 5, 6 y 7. El objetivo es seleccionar la combinación de inversiones de capital que maximice la utilidad total estimada a largo plazo (valor presente neto).\n",
        "\n",
        "Formular y resolver en PULP ó SOLVER un modelo de programación lineal binaria para este problema"
      ],
      "metadata": {
        "id": "s3o7FfO2KvIT"
      }
    },
    {
      "cell_type": "code",
      "source": [
        "import pulp\n",
        "\n",
        "# Problema 1: Inversiones de General Wheels Co.\n",
        "# Definir el problema\n",
        "problema1 = pulp.LpProblem(\"Maximizar_Utilidad\", pulp.LpMaximize)\n",
        "\n",
        "# Definir variables binarias\n",
        "x = {i: pulp.LpVariable(f\"x{i}\", cat='Binary') for i in range(1, 8)}\n",
        "\n",
        "# Función objetivo: Maximizar la utilidad estimada\n",
        "utilidad = {1: 9, 2: 16, 3: 18, 4: 15, 5: 6, 6: 12, 7: 11}  # En millones\n",
        "problema1 += pulp.lpSum(utilidad[i] * x[i] for i in range(1, 8)), \"Total_Utilidad\"\n",
        "\n",
        "# Restricción de presupuesto\n",
        "costos = {1: 25, 2: 40, 3: 45, 4: 35, 5: 15, 6: 30, 7: 25}  # En millones\n",
        "problema1 += pulp.lpSum(costos[i] * x[i] for i in range(1, 8)) <= 100, \"Presupuesto\"\n",
        "\n",
        "# Restricciones de exclusión mutua\n",
        "problema1 += x[1] + x[2] <= 1, \"Mutua_1_2\"\n",
        "problema1 += x[3] + x[4] <= 1, \"Mutua_3_4\"\n",
        "\n",
        "# Restricción de dependencia\n",
        "problema1 += x[3] <= x[1] + x[2], \"Dependencia_3\"\n",
        "problema1 += x[4] <= x[1] + x[2], \"Dependencia_4\"\n",
        "\n",
        "# Resolver\n",
        "problema1.solve()\n",
        "\n",
        "# Obtener resultados\n",
        "inversiones_seleccionadas = [i for i in range(1, 8) if pulp.value(x[i]) == 1]\n",
        "utilidad_total = pulp.value(problema1.objective)\n",
        "\n",
        "# Imprimir resultados\n",
        "for i in range(1, 8):\n",
        "    print(f\"Inversión {i}: {pulp.value(x[i])}\")\n",
        "print(f\"Utilidad Total Máxima: {pulp.value(problema1.objective)} millones\")\n",
        "\n",
        "# Imprimir resultados A usuario final\n",
        "print(\"\\nInversiones seleccionadas:\", inversiones_seleccionadas)\n",
        "print(f\"Utilidad Total Máxima: {utilidad_total} millones\")\n",
        "\n",
        "# Conclusión\n",
        "print(\"\\nConclusión:\")\n",
        "print(f\"La mejor combinación de inversiones dentro del presupuesto de 100 millones es {inversiones_seleccionadas}, logrando una utilidad total máxima de {utilidad_total} millones.\")\n"
      ],
      "metadata": {
        "colab": {
          "base_uri": "https://localhost:8080/"
        },
        "id": "FwdukfVHOKKj",
        "outputId": "500eeac0-698a-41a4-a8f1-0a37aa01a394"
      },
      "execution_count": null,
      "outputs": [
        {
          "output_type": "stream",
          "name": "stdout",
          "text": [
            "Inversión 1: 0.0\n",
            "Inversión 2: 1.0\n",
            "Inversión 3: 0.0\n",
            "Inversión 4: 1.0\n",
            "Inversión 5: 0.0\n",
            "Inversión 6: 0.0\n",
            "Inversión 7: 1.0\n",
            "Utilidad Total Máxima: 42.0 millones\n",
            "\n",
            "Inversiones seleccionadas: [2, 4, 7]\n",
            "Utilidad Total Máxima: 42.0 millones\n",
            "\n",
            "Conclusión:\n",
            "La mejor combinación de inversiones dentro del presupuesto de 100 millones es [2, 4, 7], logrando una utilidad total máxima de 42.0 millones.\n"
          ]
        }
      ]
    },
    {
      "cell_type": "markdown",
      "source": [
        "### **2. Series de Televisión**\n",
        "\n",
        "Su amigo que es fanático de las series de televisión le ha pedido ayuda para tomar complejas decisiones. La decisión está basada en dos aspectos, primero que serie comprar y segundo cuantas horas de la semana “invertir” viendo la serie. El costo de oportunidad de la hora viendo televisión es diferente dado que hay series que exigen menos concentración y se pueden desarrollar actividades adicionales de tal forma que no se “pierda” totalmente ese tiempo. Por otro lado, su amigo dispone de 20 horas para ser asignadas a ratos de esparcimiento en sus series favoritas. Además, para poder dormir bien es importante balancear el tipo de series que se ven, en ese orden de ideas no se pueden ver las series “Dahmer” y “Stranger Things” en el mismo periodo de tiempo. De igual forma para asegurar variedad en la recomendación, no se pueden asignar más de 8 horas a una misma serie. Su amigo sabe que Ud. está viendo el curso de investigación de operaciones y le ha pedido que le ayude a formular un modelo que le permita invertir bien su tiempo libre minimizando el costo\n",
        "\n",
        "|Serie|Costo|Costo de oportunidad hora|\n",
        "|:-|:-|:-|\n",
        "|House of the dragon|30000|1200|\n",
        "|Peaky Blinders|35000|7000|\n",
        "|Homeland|20000|8000|\n",
        "|Dahmer|25000|10000|\n",
        "|Breaking Bad|20000|9000|\n",
        "|Stranger Things|15000|7000|\n",
        "|Dexter|40000|1000|\n"
      ],
      "metadata": {
        "id": "VaA0HvmZQ84i"
      }
    },
    {
      "cell_type": "code",
      "source": [
        "import pulp\n",
        "\n",
        "# Problema 2: Selección de series\n",
        "# Definir el problema\n",
        "problema2 = pulp.LpProblem(\"Minimizar_Costo_Total\", pulp.LpMinimize)\n",
        "\n",
        "# Definir variables de decisión\n",
        "series = [\"House of the dragon\", \"Peaky Blinders\", \"Homeland\", \"Dahmer\", \"Breaking Bad\", \"Stranger Things\", \"Dexter\"]\n",
        "\n",
        "# Variables binarias para indicar si se compra la serie\n",
        "compra = {s: pulp.LpVariable(f\"compra_{s.replace(' ', '_')}\", cat='Binary') for s in series}\n",
        "\n",
        "# Variables continuas para asignar horas a cada serie\n",
        "horas = {s: pulp.LpVariable(f\"h_{s.replace(' ', '_')}\", lowBound=0, upBound=8, cat='Continuous') for s in series}\n",
        "\n",
        "# Costos de oportunidad por hora\n",
        "costo_oportunidad = {\n",
        "    \"House of the dragon\": 1200,\n",
        "    \"Peaky Blinders\": 7000,\n",
        "    \"Homeland\": 8000,\n",
        "    \"Dahmer\": 10000,\n",
        "    \"Breaking Bad\": 9000,\n",
        "    \"Stranger Things\": 7000,\n",
        "    \"Dexter\": 1000\n",
        "}\n",
        "\n",
        "# Costos de compra por serie\n",
        "costo_compra = {\n",
        "    \"House of the dragon\": 30000,\n",
        "    \"Peaky Blinders\": 35000,\n",
        "    \"Homeland\": 20000,\n",
        "    \"Dahmer\": 25000,\n",
        "    \"Breaking Bad\": 20000,\n",
        "    \"Stranger Things\": 15000,\n",
        "    \"Dexter\": 40000\n",
        "}\n",
        "\n",
        "# Función objetivo: Minimizar el costo total (compra + oportunidad)\n",
        "problema2 += pulp.lpSum((costo_oportunidad[s] * horas[s]) + (costo_compra[s] * compra[s]) for s in series), \"Total_Costo\"\n",
        "\n",
        "# Restricción de tiempo total disponible\n",
        "problema2 += pulp.lpSum(horas[s] for s in series) == 20, \"Tiempo_Exacto\"\n",
        "\n",
        "# Relación entre compra y horas asignadas (solo se pueden asignar horas si la serie es comprada)\n",
        "for s in series:\n",
        "    problema2 += horas[s] <= 8 * compra[s], f\"Horas_si_Compra_{s}\"\n",
        "\n",
        "# Restricción de exclusión mutua entre \"Dahmer\" y \"Stranger Things\"\n",
        "problema2 += horas[\"Dahmer\"] + horas[\"Stranger Things\"] <= 8, \"Mutua_Dahmer_StrangerThings\"\n",
        "\n",
        "# Resolver\n",
        "problema2.solve()\n",
        "\n",
        "# Obtener resultados\n",
        "horas_asignadas = {s: pulp.value(horas[s]) for s in series if pulp.value(horas[s]) > 0}\n",
        "series_compradas = [s for s in series if pulp.value(compra[s]) > 0.5]\n",
        "costo_total = pulp.value(problema2.objective)\n",
        "\n",
        "# Verificar valores de las variables\n",
        "print(\"Series compradas:\")\n",
        "print(series_compradas)\n",
        "\n",
        "print(\"\\nHoras asignadas por serie:\")\n",
        "for s in series:\n",
        "    print(f\"{s}: {pulp.value(horas[s])}\")\n",
        "\n",
        "# Imprimir resultados\n",
        "print(\"\\nCosto total mínimo (compra + oportunidad):\", costo_total)\n",
        "\n",
        "# Conclusión\n",
        "print(\"\\nConclusión:\")\n",
        "print(f\"La mejor selección minimiza el costo total (compra + oportunidad) a {costo_total}. Las series compradas son: {series_compradas}. La asignación de horas por serie es: {horas_asignadas}.\")\n"
      ],
      "metadata": {
        "colab": {
          "base_uri": "https://localhost:8080/"
        },
        "id": "_fwK6wnvUt-K",
        "outputId": "34a994df-fa31-4493-a454-d917b3424df9"
      },
      "execution_count": null,
      "outputs": [
        {
          "output_type": "stream",
          "name": "stdout",
          "text": [
            "Series compradas:\n",
            "['House of the dragon', 'Stranger Things', 'Dexter']\n",
            "\n",
            "Horas asignadas por serie:\n",
            "House of the dragon: 8.0\n",
            "Peaky Blinders: 0.0\n",
            "Homeland: 0.0\n",
            "Dahmer: 0.0\n",
            "Breaking Bad: 0.0\n",
            "Stranger Things: 4.0\n",
            "Dexter: 8.0\n",
            "\n",
            "Costo total mínimo (compra + oportunidad): 130600.0\n",
            "\n",
            "Conclusión:\n",
            "La mejor selección minimiza el costo total (compra + oportunidad) a 130600.0. Las series compradas son: ['House of the dragon', 'Stranger Things', 'Dexter']. La asignación de horas por serie es: {'House of the dragon': 8.0, 'Stranger Things': 4.0, 'Dexter': 8.0}.\n"
          ]
        }
      ]
    },
    {
      "cell_type": "markdown",
      "source": [
        "### **3. Gotham city Ambulance problem**\n",
        "\n",
        "Gotham City has been divided into eight districts. The time (in minutes) it takes an ambulance to travel from one district to another is shown in Table 100. The population of each district (in thousands) is as follows: district 1, 40; district 2, 30; district 3,  35; district 4, 20; district 5, 15; district 6, 50; district 7, 45; district 8, 60. The city has only two ambulances and wants to locate them to maximize the number of people who live within 2 minutes of an ambulance. Formulate an IP to accomplish this goal.\n",
        "\n",
        "TABLE 100 - District\n",
        "\n",
        "|District|1|2|3|4|5|6|7|8|\n",
        "|:-:|:-:|:-:|:-:|:-:|:-:|:-:|:-:|:-:|\n",
        "|1|0|3|4|6|8|9|8|10|\n",
        "|2|3|0|5|4|8|6|12|9|\n",
        "|3|4|5|0|2|2|3|5|7|\n",
        "|4|6|4|2|0|3|2|5|4|\n",
        "|5|8|8|2|3|0|2|2|4|\n",
        "|6|9|6|3|2|2|0|3|2|\n",
        "|7|8|12|5|5|2|3|0|2|\n",
        "|8|10|9|7|4|4|2|2|0|"
      ],
      "metadata": {
        "id": "DMx6oQlAWoYj"
      }
    },
    {
      "cell_type": "code",
      "source": [
        "import pulp\n",
        "\n",
        "# Definir el problema\n",
        "problema3 = pulp.LpProblem(\"Maximizar_Cobertura_Ambulancias\", pulp.LpMaximize)\n",
        "\n",
        "# Distritos y poblaciones\n",
        "distritos = list(range(1, 9))\n",
        "poblacion = {1: 40, 2: 30, 3: 35, 4: 20, 5: 15, 6: 50, 7: 45, 8: 60} # POblaciones en Miles\n",
        "\n",
        "# Matriz de tiempos de viaje\n",
        "tiempos = {\n",
        "    1: {1: 0, 2: 3, 3: 4, 4: 6, 5: 8, 6: 9, 7: 8, 8: 10},\n",
        "    2: {1: 3, 2: 0, 3: 5, 4: 4, 5: 8, 6: 6, 7: 12, 8: 9},\n",
        "    3: {1: 4, 2: 5, 3: 0, 4: 2, 5: 2, 6: 3, 7: 5, 8: 7},\n",
        "    4: {1: 6, 2: 4, 3: 2, 4: 0, 5: 3, 6: 2, 7: 5, 8: 4},\n",
        "    5: {1: 8, 2: 8, 3: 2, 4: 3, 5: 0, 6: 2, 7: 2, 8: 4},\n",
        "    6: {1: 9, 2: 6, 3: 3, 4: 2, 5: 2, 6: 0, 7: 3, 8: 2},\n",
        "    7: {1: 8, 2: 12, 3: 5, 4: 5, 5: 2, 6: 3, 7: 0, 8: 2},\n",
        "    8: {1: 10, 2: 9, 3: 7, 4: 4, 5: 4, 6: 2, 7: 2, 8: 0}\n",
        "}\n",
        "\n",
        "# Variables binarias para la ubicación de ambulancias\n",
        "x = {i: pulp.LpVariable(f\"x_{i}\", cat='Binary') for i in distritos}\n",
        "\n",
        "# Variables binarias para indicar si un distrito está cubierto\n",
        "y = {i: pulp.LpVariable(f\"y_{i}\", cat='Binary') for i in distritos}\n",
        "\n",
        "# Función objetivo: Maximizar la población cubierta\n",
        "problema3 += pulp.lpSum(poblacion[i] * y[i] for i in distritos), \"Poblacion_Cubierta\"\n",
        "\n",
        "# Restricción: Solo se pueden ubicar dos ambulancias\n",
        "problema3 += pulp.lpSum(x[i] for i in distritos) == 2, \"Cantidad_Ambulancias\"\n",
        "\n",
        "# Restricciones de cobertura (distritos dentro de 2 minutos)\n",
        "for i in distritos:\n",
        "    problema3 += y[i] <= pulp.lpSum(x[j] for j in distritos if tiempos[i][j] <= 2), f\"Cobertura_{i}\"\n",
        "\n",
        "# Resolver el problema\n",
        "problema3.solve()\n",
        "\n",
        "# Resultados\n",
        "ambulancias_ubicadas = [i for i in distritos if pulp.value(x[i]) == 1]\n",
        "distritos_cubiertos = [i for i in distritos if pulp.value(y[i]) == 1]\n",
        "poblacion_total_cubierta = pulp.value(problema3.objective)\n",
        "\n",
        "print(\"Ubicación de ambulancias en distritos:\", ambulancias_ubicadas)\n",
        "print(\"\\nDistritos cubiertos:\", distritos_cubiertos)\n",
        "print(\"\\nPoblación total cubierta:\", poblacion_total_cubierta)\n",
        "\n",
        "# Conclusión\n",
        "echo = f\"Se deben colocar ambulancias en los distritos {ambulancias_ubicadas}, asegurando cobertura para los distritos {distritos_cubiertos}, cubriendo en total {poblacion_total_cubierta} mil personas.\"\n",
        "print(\"\\nConclusión:\", echo)\n"
      ],
      "metadata": {
        "colab": {
          "base_uri": "https://localhost:8080/"
        },
        "id": "7gXzrsktZQD4",
        "outputId": "dc45c4e0-d7a0-4e75-ab01-caf4689e0b03"
      },
      "execution_count": null,
      "outputs": [
        {
          "output_type": "stream",
          "name": "stdout",
          "text": [
            "Ubicación de ambulancias en distritos: [5, 6]\n",
            "\n",
            "Distritos cubiertos: [3, 4, 5, 6, 7, 8]\n",
            "\n",
            "Población total cubierta: 225.0\n",
            "\n",
            "Conclusión: Se deben colocar ambulancias en los distritos [5, 6], asegurando cobertura para los distritos [3, 4, 5, 6, 7, 8], cubriendo en total 225.0 mil personas.\n"
          ]
        }
      ]
    },
    {
      "cell_type": "markdown",
      "source": [
        "### **4. Comité quejas Universidad Arkasas**\n",
        "\n",
        "La Universidad de Arkansas va a formar un comité para atender las quejas de los estudiantes. La administración desea que el comité incluya al menos una mujer, un hombre, un estudiante, un administrador y un profesor. Diez personas (identificadas, por simplicidad, con las letras de la a a la j) han sido nominadas, y se les ha combinado en las distintas categorías siguientes:\n",
        "\n",
        "\n",
        "\n",
        "|Categoria|Personas|\n",
        "|:-|:-|\n",
        "|Mujeres|a, b, c, d, e|\n",
        "|Hombres|f, g, h, i, j|\n",
        "|Estudiantes|a, b, c, j|\n",
        "|Administradores|e, f|\n",
        "|Profesores|d, g, h, i|\n",
        "\n",
        "\n",
        "La Universidad de Arkansas desea formar el menor comité con la representación de cada una de las cinco categorías. Formule el problema como un PLE, y halle la solución óptima."
      ],
      "metadata": {
        "id": "_pRUaDnhcMB7"
      }
    },
    {
      "cell_type": "code",
      "source": [
        "import pulp\n",
        "\n",
        "# Definir el problema de optimización\n",
        "problema4 = pulp.LpProblem(\"Minimizar_Tamaño_Comité\", pulp.LpMinimize)\n",
        "\n",
        "# Definir las personas\n",
        "personas = [\"a\", \"b\", \"c\", \"d\", \"e\", \"f\", \"g\", \"h\", \"i\", \"j\"]\n",
        "\n",
        "# Variables binarias (1 si la persona es seleccionada, 0 si no)\n",
        "x = {p: pulp.LpVariable(f\"x_{p}\", cat='Binary') for p in personas}\n",
        "\n",
        "# Función objetivo: minimizar el número total de personas en el comité\n",
        "problema4 += pulp.lpSum(x[p] for p in personas), \"Minimizar_Tamaño_Comité\"\n",
        "\n",
        "# Restricciones de representación\n",
        "problema4 += pulp.lpSum(x[p] for p in [\"a\", \"b\", \"c\", \"d\", \"e\"]) >= 1, \"AlMenos_Una_Mujer\"\n",
        "problema4 += pulp.lpSum(x[p] for p in [\"f\", \"g\", \"h\", \"i\", \"j\"]) >= 1, \"AlMenos_Un_Hombre\"\n",
        "problema4 += pulp.lpSum(x[p] for p in [\"a\", \"b\", \"c\", \"j\"]) >= 1, \"AlMenos_Un_Estudiante\"\n",
        "problema4 += pulp.lpSum(x[p] for p in [\"e\", \"f\"]) >= 1, \"AlMenos_Un_Administrador\"\n",
        "problema4 += pulp.lpSum(x[p] for p in [\"d\", \"g\", \"h\", \"i\"]) >= 1, \"AlMenos_Un_Profesor\"\n",
        "\n",
        "# Resolver el problema\n",
        "problema4.solve()\n",
        "\n",
        "# Obtener los resultados\n",
        "personas_seleccionadas = [p for p in personas if pulp.value(x[p]) > 0.5]\n",
        "tamano_comite = pulp.value(problema4.objective)\n",
        "\n",
        "# Imprimir resultados\n",
        "print(\"Personas seleccionadas para el comité:\")\n",
        "print(personas_seleccionadas)\n",
        "print(\"\\nTamaño mínimo del comité:\", int(tamano_comite))\n",
        "\n",
        "# Conclusión\n",
        "print(\"\\nConclusión:\")\n",
        "print(f\"La mejor selección de personas para el comité son: {personas_seleccionadas}. De esta manera se cumple con todos los requisitos de la universidad y se tendría un comite con {tamano_comite} miembros.\")\n"
      ],
      "metadata": {
        "colab": {
          "base_uri": "https://localhost:8080/"
        },
        "id": "cOvqMShuduJ5",
        "outputId": "0f369bdb-d04e-434e-c5fc-00f8521cb2e4"
      },
      "execution_count": null,
      "outputs": [
        {
          "output_type": "stream",
          "name": "stdout",
          "text": [
            "Personas seleccionadas para el comité:\n",
            "['d', 'f', 'j']\n",
            "\n",
            "Tamaño mínimo del comité: 3\n",
            "\n",
            "Conclusión:\n",
            "La mejor selección de personas para el comité son: ['d', 'f', 'j']. De esta manera se cumple con todos los requisitos de la universidad y se tendría un comite con 3.0 miembros.\n"
          ]
        }
      ]
    },
    {
      "cell_type": "markdown",
      "source": [
        "### **5. Oil delivery truck**\n",
        "\n",
        "A Sunco oil delivery truck contains five compartments, holding up to 2,700, 2,800, 1,100, 1,800, and 3,400 gallons of fuel, respectively. The company must deliver three types of fuel (super, regular, and unleaded) to a customer. The demands, penalty per gallon short, and the maximum allowed shortage are given in Table 29. Each compartment of the truck can carry only one type of gasoline. Formulate an IP whose solution will tell Sunco how to load the truck in a way that minimizes shortage costs\n",
        "\n",
        "TABLE 29\n",
        "\n",
        "|Type of gasoline|Demand|Cost per gallon short ($)|Maximum allowed shortage|\n",
        "|:-:|:-:|:-:|:-:|\n",
        "|Super|2900|10|500|\n",
        "|Regular|4000|8|500|\n",
        "|Unleaded|4900|6|500|\n",
        "\n"
      ],
      "metadata": {
        "id": "-6v2K3e_e9yu"
      }
    },
    {
      "cell_type": "code",
      "source": [
        "import pulp\n",
        "\n",
        "# Definir el problema\n",
        "problema5 = pulp.LpProblem(\"Minimizar_Costo_Escasez\", pulp.LpMinimize)\n",
        "\n",
        "# Definir variables de decisión\n",
        "combustibles = [\"Super\", \"Regular\", \"Unleaded\"]\n",
        "compartimentos = [\"C1\", \"C2\", \"C3\", \"C4\", \"C5\"]\n",
        "capacidad = {\"C1\": 2700, \"C2\": 2800, \"C3\": 1100, \"C4\": 1800, \"C5\": 3400}\n",
        "demanda = {\"Super\": 2900, \"Regular\": 4000, \"Unleaded\": 4900}\n",
        "costo_escasez = {\"Super\": 10, \"Regular\": 8, \"Unleaded\": 6}\n",
        "max_escasez = 500\n",
        "\n",
        "# Variables de cantidad de combustible asignado a cada compartimento\n",
        "x = {(c, f): pulp.LpVariable(f\"x_{c}_{f}\", lowBound=0, upBound=capacidad[c], cat='Continuous')\n",
        "     for c in compartimentos for f in combustibles}\n",
        "\n",
        "# Variables de escasez de combustible\n",
        "escasez = {f: pulp.LpVariable(f\"escasez_{f}\", lowBound=0, upBound=max_escasez, cat='Continuous')\n",
        "           for f in combustibles}\n",
        "\n",
        "# Variables binarias para indicar qué tipo de combustible va en cada compartimento\n",
        "y = {(c, f): pulp.LpVariable(f\"y_{c}_{f}\", cat='Binary') for c in compartimentos for f in combustibles}\n",
        "\n",
        "# Función objetivo: Minimizar el costo total de escasez\n",
        "problema5 += pulp.lpSum(costo_escasez[f] * escasez[f] for f in combustibles), \"Costo_Total_Escasez\"\n",
        "\n",
        "# Restricción de demanda (asignaciones más escasez deben cubrir la demanda)\n",
        "for f in combustibles:\n",
        "    problema5 += pulp.lpSum(x[c, f] for c in compartimentos) + escasez[f] == demanda[f], f\"Demanda_{f}\"\n",
        "\n",
        "# Restricción de unicidad: cada compartimento solo puede llevar un tipo de combustible\n",
        "for c in compartimentos:\n",
        "    problema5 += pulp.lpSum(y[c, f] for f in combustibles) == 1, f\"Unicidad_{c}\"\n",
        "    for f in combustibles:\n",
        "        problema5 += x[c, f] <= capacidad[c] * y[c, f], f\"Capacidad_{c}_{f}\"\n",
        "\n",
        "# Resolver el problema\n",
        "problema5.solve()\n",
        "\n",
        "# Obtener resultados\n",
        "asignacion_combustible = {(c, f): pulp.value(x[c, f]) for c in compartimentos for f in combustibles if pulp.value(x[c, f]) > 0}\n",
        "escasez_total = {f: pulp.value(escasez[f]) for f in combustibles}\n",
        "costo_total = pulp.value(problema5.objective)\n",
        "\n",
        "# Imprimir resultados\n",
        "print(\"Asignación de combustible en cada compartimento:\")\n",
        "for (c, f), cantidad in asignacion_combustible.items():\n",
        "    print(f\"Compartimento {c} -> {f}: {cantidad} galones\")\n",
        "\n",
        "print(\"\\nEscasez total por tipo de combustible:\")\n",
        "for f, cantidad in escasez_total.items():\n",
        "    print(f\"{f}: {cantidad} galones\")\n",
        "\n",
        "print(\"\\nCosto total de escasez:\", costo_total)\n",
        "\n",
        "# Conclusión\n",
        "print(\"\\nConclusión:\")\n",
        "print(f\"La mejor distribución minimiza el costo total de escasez a {costo_total}. La asignación de combustible por compartimento es: {asignacion_combustible}. La escasez final por tipo de combustible es: {escasez_total}.\")\n"
      ],
      "metadata": {
        "colab": {
          "base_uri": "https://localhost:8080/"
        },
        "id": "p1KlcY4ih3XB",
        "outputId": "15c6e34e-3e8c-40cf-c632-f7e05167ebbe"
      },
      "execution_count": null,
      "outputs": [
        {
          "output_type": "stream",
          "name": "stdout",
          "text": [
            "Asignación de combustible en cada compartimento:\n",
            "Compartimento C1 -> Regular: 2700.0 galones\n",
            "Compartimento C2 -> Super: 2800.0 galones\n",
            "Compartimento C3 -> Regular: 1100.0 galones\n",
            "Compartimento C4 -> Unleaded: 1500.0 galones\n",
            "Compartimento C5 -> Unleaded: 3400.0 galones\n",
            "\n",
            "Escasez total por tipo de combustible:\n",
            "Super: 100.0 galones\n",
            "Regular: 200.0 galones\n",
            "Unleaded: 0.0 galones\n",
            "\n",
            "Costo total de escasez: 2600.0\n",
            "\n",
            "Conclusión:\n",
            "La mejor distribución minimiza el costo total de escasez a 2600.0. La asignación de combustible por compartimento es: {('C1', 'Regular'): 2700.0, ('C2', 'Super'): 2800.0, ('C3', 'Regular'): 1100.0, ('C4', 'Unleaded'): 1500.0, ('C5', 'Unleaded'): 3400.0}. La escasez final por tipo de combustible es: {'Super': 100.0, 'Regular': 200.0, 'Unleaded': 0.0}.\n"
          ]
        }
      ]
    }
  ]
}